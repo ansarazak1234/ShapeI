{
  "nbformat": 4,
  "nbformat_minor": 0,
  "metadata": {
    "colab": {
      "name": "Untitled11.ipynb",
      "provenance": [],
      "authorship_tag": "ABX9TyPeDsBIItA22g8V8Bd6RMEU",
      "include_colab_link": true
    },
    "kernelspec": {
      "name": "python3",
      "display_name": "Python 3"
    },
    "language_info": {
      "name": "python"
    }
  },
  "cells": [
    {
      "cell_type": "markdown",
      "metadata": {
        "id": "view-in-github",
        "colab_type": "text"
      },
      "source": [
        "<a href=\"https://colab.research.google.com/github/ansarazak1234/ShapeI/blob/main/python.ipynb\" target=\"_parent\"><img src=\"https://colab.research.google.com/assets/colab-badge.svg\" alt=\"Open In Colab\"/></a>"
      ]
    },
    {
      "cell_type": "code",
      "metadata": {
        "colab": {
          "base_uri": "https://localhost:8080/"
        },
        "id": "wRvkjw1bZWB2",
        "outputId": "00c72c4d-3e9c-492d-a35a-ed6ccd1a9849"
      },
      "source": [
        " import requests\n",
        "import os\n",
        "from datetime import datetime\n",
        " \n",
        "api_key = 'c6c7f127ca0f55aa5833ad61205266af'\n",
        "location = input(\"Enter the city name: \")\n",
        " \n",
        "complete_api_link = \"https://api.openweathermap.org/data/2.5/weather?q=\"+location+\"&appid=\"+api_key\n",
        "api_link = requests.get(complete_api_link)\n",
        "api_data = api_link.json()\n",
        " \n",
        " \n",
        "temp_city = ((api_data['main']['temp']) - 273.15)\n",
        "weather_desc = api_data['weather'][0]['description']\n",
        "hmdt = api_data['main']['humidity']\n",
        "wind_spd = api_data['wind']['speed']\n",
        "date_time = datetime.now().strftime(\"%d %b %Y | %I:%M:%S %p\")\n",
        " \n",
        "print (\"________________________________________________________________\")\n",
        "print (\"Weather Stats for - {} || {}\".format(location.upper(), date_time))\n",
        "print (\"________________________________________________________________\")\n",
        " \n",
        " \n",
        "print (\"# Current temperature is: {:.2f} deg C\".format(temp_city))\n",
        "print (\"# Current weather desc :\", weather_desc)\n",
        "print (\"# Current Humidity :\", hmdt, '%')\n",
        "print (\"# Current wind speed :\", wind_spd ,'kmph')\n",
        "with open('SaveWeather.txt', 'w') as f:f.write(\"city: \"+location+\"\\n\"+\"Temperature :\"+str(temp_city)+\"\\nWeather Description :\"+weather_desc+\"\\nHumidity :\"+str(hmdt)+\" %\"+\"\\nWind speed :\"+str(wind_spd)+str(wind_spd)+\" kmph\")"
      ],
      "execution_count": 1,
      "outputs": [
        {
          "output_type": "stream",
          "text": [
            "Enter the city name: Kerala\n",
            "________________________________________________________________\n",
            "Weather Stats for - KERALA || 23 Jun 2021 | 05:44:27 AM\n",
            "________________________________________________________________\n",
            "# Current temperature is: 29.82 deg C\n",
            "# Current weather desc : overcast clouds\n",
            "# Current Humidity : 81 %\n",
            "# Current wind speed : 1.18 kmph\n"
          ],
          "name": "stdout"
        }
      ]
    }
  ]
}